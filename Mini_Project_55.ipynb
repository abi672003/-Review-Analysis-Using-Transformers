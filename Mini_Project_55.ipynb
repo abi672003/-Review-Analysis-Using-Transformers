{
  "nbformat": 4,
  "nbformat_minor": 0,
  "metadata": {
    "colab": {
      "provenance": [],
      "authorship_tag": "ABX9TyMWCO0aXtECvesfmmsnLCsF",
      "include_colab_link": true
    },
    "kernelspec": {
      "name": "python3",
      "display_name": "Python 3"
    },
    "language_info": {
      "name": "python"
    }
  },
  "cells": [
    {
      "cell_type": "markdown",
      "metadata": {
        "id": "view-in-github",
        "colab_type": "text"
      },
      "source": [
        "<a href=\"https://colab.research.google.com/github/abi672003/-Review-Analysis-Using-Transformers/blob/main/Mini_Project_55.ipynb\" target=\"_parent\"><img src=\"https://colab.research.google.com/assets/colab-badge.svg\" alt=\"Open In Colab\"/></a>"
      ]
    },
    {
      "cell_type": "code",
      "execution_count": null,
      "metadata": {
        "id": "x3Go7CldsLDu"
      },
      "outputs": [],
      "source": [
        "import pandas as pd\n",
        "import numpy as np\n",
        "import matplotlib.pyplot as plt\n",
        "import seaborn as sns\n",
        "plt.style.use(\"ggplot\")\n",
        "import nltk"
      ]
    },
    {
      "cell_type": "code",
      "source": [
        "df=pd.read_csv(r\"/content/reviewdataset.csv\")\n",
        "df.head()"
      ],
      "metadata": {
        "colab": {
          "base_uri": "https://localhost:8080/",
          "height": 632
        },
        "id": "HAutnN4jsOJK",
        "outputId": "14bc1652-91b0-4d72-f01e-2dd42f04b51c"
      },
      "execution_count": null,
      "outputs": [
        {
          "output_type": "execute_result",
          "data": {
            "text/plain": [
              "   Unnamed: 0  Clothing ID  Age                    Title  \\\n",
              "0           0          767   33                      NaN   \n",
              "1           1         1080   34                      NaN   \n",
              "2           2         1077   60  Some major design flaws   \n",
              "3           3         1049   50         My favorite buy!   \n",
              "4           4          847   47         Flattering shirt   \n",
              "\n",
              "                                         Review Text  Rating  Recommended IND  \\\n",
              "0  Absolutely wonderful - silky and sexy and comf...       4                1   \n",
              "1  Love this dress!  it's sooo pretty.  i happene...       5                1   \n",
              "2  I had such high hopes for this dress and reall...       3                0   \n",
              "3  I love, love, love this jumpsuit. it's fun, fl...       5                1   \n",
              "4  This shirt is very flattering to all due to th...       5                1   \n",
              "\n",
              "   Positive Feedback Count   Division Name Department Name Class Name  \n",
              "0                        0       Initmates        Intimate  Intimates  \n",
              "1                        4         General         Dresses    Dresses  \n",
              "2                        0         General         Dresses    Dresses  \n",
              "3                        0  General Petite         Bottoms      Pants  \n",
              "4                        6         General            Tops    Blouses  "
            ],
            "text/html": [
              "\n",
              "\n",
              "  <div id=\"df-180624b4-0449-4cc2-a87d-3a86fd7a3d6b\">\n",
              "    <div class=\"colab-df-container\">\n",
              "      <div>\n",
              "<style scoped>\n",
              "    .dataframe tbody tr th:only-of-type {\n",
              "        vertical-align: middle;\n",
              "    }\n",
              "\n",
              "    .dataframe tbody tr th {\n",
              "        vertical-align: top;\n",
              "    }\n",
              "\n",
              "    .dataframe thead th {\n",
              "        text-align: right;\n",
              "    }\n",
              "</style>\n",
              "<table border=\"1\" class=\"dataframe\">\n",
              "  <thead>\n",
              "    <tr style=\"text-align: right;\">\n",
              "      <th></th>\n",
              "      <th>Unnamed: 0</th>\n",
              "      <th>Clothing ID</th>\n",
              "      <th>Age</th>\n",
              "      <th>Title</th>\n",
              "      <th>Review Text</th>\n",
              "      <th>Rating</th>\n",
              "      <th>Recommended IND</th>\n",
              "      <th>Positive Feedback Count</th>\n",
              "      <th>Division Name</th>\n",
              "      <th>Department Name</th>\n",
              "      <th>Class Name</th>\n",
              "    </tr>\n",
              "  </thead>\n",
              "  <tbody>\n",
              "    <tr>\n",
              "      <th>0</th>\n",
              "      <td>0</td>\n",
              "      <td>767</td>\n",
              "      <td>33</td>\n",
              "      <td>NaN</td>\n",
              "      <td>Absolutely wonderful - silky and sexy and comf...</td>\n",
              "      <td>4</td>\n",
              "      <td>1</td>\n",
              "      <td>0</td>\n",
              "      <td>Initmates</td>\n",
              "      <td>Intimate</td>\n",
              "      <td>Intimates</td>\n",
              "    </tr>\n",
              "    <tr>\n",
              "      <th>1</th>\n",
              "      <td>1</td>\n",
              "      <td>1080</td>\n",
              "      <td>34</td>\n",
              "      <td>NaN</td>\n",
              "      <td>Love this dress!  it's sooo pretty.  i happene...</td>\n",
              "      <td>5</td>\n",
              "      <td>1</td>\n",
              "      <td>4</td>\n",
              "      <td>General</td>\n",
              "      <td>Dresses</td>\n",
              "      <td>Dresses</td>\n",
              "    </tr>\n",
              "    <tr>\n",
              "      <th>2</th>\n",
              "      <td>2</td>\n",
              "      <td>1077</td>\n",
              "      <td>60</td>\n",
              "      <td>Some major design flaws</td>\n",
              "      <td>I had such high hopes for this dress and reall...</td>\n",
              "      <td>3</td>\n",
              "      <td>0</td>\n",
              "      <td>0</td>\n",
              "      <td>General</td>\n",
              "      <td>Dresses</td>\n",
              "      <td>Dresses</td>\n",
              "    </tr>\n",
              "    <tr>\n",
              "      <th>3</th>\n",
              "      <td>3</td>\n",
              "      <td>1049</td>\n",
              "      <td>50</td>\n",
              "      <td>My favorite buy!</td>\n",
              "      <td>I love, love, love this jumpsuit. it's fun, fl...</td>\n",
              "      <td>5</td>\n",
              "      <td>1</td>\n",
              "      <td>0</td>\n",
              "      <td>General Petite</td>\n",
              "      <td>Bottoms</td>\n",
              "      <td>Pants</td>\n",
              "    </tr>\n",
              "    <tr>\n",
              "      <th>4</th>\n",
              "      <td>4</td>\n",
              "      <td>847</td>\n",
              "      <td>47</td>\n",
              "      <td>Flattering shirt</td>\n",
              "      <td>This shirt is very flattering to all due to th...</td>\n",
              "      <td>5</td>\n",
              "      <td>1</td>\n",
              "      <td>6</td>\n",
              "      <td>General</td>\n",
              "      <td>Tops</td>\n",
              "      <td>Blouses</td>\n",
              "    </tr>\n",
              "  </tbody>\n",
              "</table>\n",
              "</div>\n",
              "      <button class=\"colab-df-convert\" onclick=\"convertToInteractive('df-180624b4-0449-4cc2-a87d-3a86fd7a3d6b')\"\n",
              "              title=\"Convert this dataframe to an interactive table.\"\n",
              "              style=\"display:none;\">\n",
              "\n",
              "  <svg xmlns=\"http://www.w3.org/2000/svg\" height=\"24px\"viewBox=\"0 0 24 24\"\n",
              "       width=\"24px\">\n",
              "    <path d=\"M0 0h24v24H0V0z\" fill=\"none\"/>\n",
              "    <path d=\"M18.56 5.44l.94 2.06.94-2.06 2.06-.94-2.06-.94-.94-2.06-.94 2.06-2.06.94zm-11 1L8.5 8.5l.94-2.06 2.06-.94-2.06-.94L8.5 2.5l-.94 2.06-2.06.94zm10 10l.94 2.06.94-2.06 2.06-.94-2.06-.94-.94-2.06-.94 2.06-2.06.94z\"/><path d=\"M17.41 7.96l-1.37-1.37c-.4-.4-.92-.59-1.43-.59-.52 0-1.04.2-1.43.59L10.3 9.45l-7.72 7.72c-.78.78-.78 2.05 0 2.83L4 21.41c.39.39.9.59 1.41.59.51 0 1.02-.2 1.41-.59l7.78-7.78 2.81-2.81c.8-.78.8-2.07 0-2.86zM5.41 20L4 18.59l7.72-7.72 1.47 1.35L5.41 20z\"/>\n",
              "  </svg>\n",
              "      </button>\n",
              "\n",
              "\n",
              "\n",
              "    <div id=\"df-f410b590-a96c-43ad-9253-9b734210af7c\">\n",
              "      <button class=\"colab-df-quickchart\" onclick=\"quickchart('df-f410b590-a96c-43ad-9253-9b734210af7c')\"\n",
              "              title=\"Suggest charts.\"\n",
              "              style=\"display:none;\">\n",
              "\n",
              "<svg xmlns=\"http://www.w3.org/2000/svg\" height=\"24px\"viewBox=\"0 0 24 24\"\n",
              "     width=\"24px\">\n",
              "    <g>\n",
              "        <path d=\"M19 3H5c-1.1 0-2 .9-2 2v14c0 1.1.9 2 2 2h14c1.1 0 2-.9 2-2V5c0-1.1-.9-2-2-2zM9 17H7v-7h2v7zm4 0h-2V7h2v10zm4 0h-2v-4h2v4z\"/>\n",
              "    </g>\n",
              "</svg>\n",
              "      </button>\n",
              "    </div>\n",
              "\n",
              "<style>\n",
              "  .colab-df-quickchart {\n",
              "    background-color: #E8F0FE;\n",
              "    border: none;\n",
              "    border-radius: 50%;\n",
              "    cursor: pointer;\n",
              "    display: none;\n",
              "    fill: #1967D2;\n",
              "    height: 32px;\n",
              "    padding: 0 0 0 0;\n",
              "    width: 32px;\n",
              "  }\n",
              "\n",
              "  .colab-df-quickchart:hover {\n",
              "    background-color: #E2EBFA;\n",
              "    box-shadow: 0px 1px 2px rgba(60, 64, 67, 0.3), 0px 1px 3px 1px rgba(60, 64, 67, 0.15);\n",
              "    fill: #174EA6;\n",
              "  }\n",
              "\n",
              "  [theme=dark] .colab-df-quickchart {\n",
              "    background-color: #3B4455;\n",
              "    fill: #D2E3FC;\n",
              "  }\n",
              "\n",
              "  [theme=dark] .colab-df-quickchart:hover {\n",
              "    background-color: #434B5C;\n",
              "    box-shadow: 0px 1px 3px 1px rgba(0, 0, 0, 0.15);\n",
              "    filter: drop-shadow(0px 1px 2px rgba(0, 0, 0, 0.3));\n",
              "    fill: #FFFFFF;\n",
              "  }\n",
              "</style>\n",
              "\n",
              "    <script>\n",
              "      async function quickchart(key) {\n",
              "        const containerElement = document.querySelector('#' + key);\n",
              "        const charts = await google.colab.kernel.invokeFunction(\n",
              "            'suggestCharts', [key], {});\n",
              "      }\n",
              "    </script>\n",
              "\n",
              "      <script>\n",
              "\n",
              "function displayQuickchartButton(domScope) {\n",
              "  let quickchartButtonEl =\n",
              "    domScope.querySelector('#df-f410b590-a96c-43ad-9253-9b734210af7c button.colab-df-quickchart');\n",
              "  quickchartButtonEl.style.display =\n",
              "    google.colab.kernel.accessAllowed ? 'block' : 'none';\n",
              "}\n",
              "\n",
              "        displayQuickchartButton(document);\n",
              "      </script>\n",
              "      <style>\n",
              "    .colab-df-container {\n",
              "      display:flex;\n",
              "      flex-wrap:wrap;\n",
              "      gap: 12px;\n",
              "    }\n",
              "\n",
              "    .colab-df-convert {\n",
              "      background-color: #E8F0FE;\n",
              "      border: none;\n",
              "      border-radius: 50%;\n",
              "      cursor: pointer;\n",
              "      display: none;\n",
              "      fill: #1967D2;\n",
              "      height: 32px;\n",
              "      padding: 0 0 0 0;\n",
              "      width: 32px;\n",
              "    }\n",
              "\n",
              "    .colab-df-convert:hover {\n",
              "      background-color: #E2EBFA;\n",
              "      box-shadow: 0px 1px 2px rgba(60, 64, 67, 0.3), 0px 1px 3px 1px rgba(60, 64, 67, 0.15);\n",
              "      fill: #174EA6;\n",
              "    }\n",
              "\n",
              "    [theme=dark] .colab-df-convert {\n",
              "      background-color: #3B4455;\n",
              "      fill: #D2E3FC;\n",
              "    }\n",
              "\n",
              "    [theme=dark] .colab-df-convert:hover {\n",
              "      background-color: #434B5C;\n",
              "      box-shadow: 0px 1px 3px 1px rgba(0, 0, 0, 0.15);\n",
              "      filter: drop-shadow(0px 1px 2px rgba(0, 0, 0, 0.3));\n",
              "      fill: #FFFFFF;\n",
              "    }\n",
              "  </style>\n",
              "\n",
              "      <script>\n",
              "        const buttonEl =\n",
              "          document.querySelector('#df-180624b4-0449-4cc2-a87d-3a86fd7a3d6b button.colab-df-convert');\n",
              "        buttonEl.style.display =\n",
              "          google.colab.kernel.accessAllowed ? 'block' : 'none';\n",
              "\n",
              "        async function convertToInteractive(key) {\n",
              "          const element = document.querySelector('#df-180624b4-0449-4cc2-a87d-3a86fd7a3d6b');\n",
              "          const dataTable =\n",
              "            await google.colab.kernel.invokeFunction('convertToInteractive',\n",
              "                                                     [key], {});\n",
              "          if (!dataTable) return;\n",
              "\n",
              "          const docLinkHtml = 'Like what you see? Visit the ' +\n",
              "            '<a target=\"_blank\" href=https://colab.research.google.com/notebooks/data_table.ipynb>data table notebook</a>'\n",
              "            + ' to learn more about interactive tables.';\n",
              "          element.innerHTML = '';\n",
              "          dataTable['output_type'] = 'display_data';\n",
              "          await google.colab.output.renderOutput(dataTable, element);\n",
              "          const docLink = document.createElement('div');\n",
              "          docLink.innerHTML = docLinkHtml;\n",
              "          element.appendChild(docLink);\n",
              "        }\n",
              "      </script>\n",
              "    </div>\n",
              "  </div>\n"
            ]
          },
          "metadata": {},
          "execution_count": 2
        }
      ]
    },
    {
      "cell_type": "code",
      "source": [
        "df['Review Text'].values[1]"
      ],
      "metadata": {
        "colab": {
          "base_uri": "https://localhost:8080/",
          "height": 70
        },
        "id": "vhD6zUw-srYq",
        "outputId": "bba27115-bbb6-4f99-9eec-e47d27971cc4"
      },
      "execution_count": null,
      "outputs": [
        {
          "output_type": "execute_result",
          "data": {
            "text/plain": [
              "'Love this dress!  it\\'s sooo pretty.  i happened to find it in a store, and i\\'m glad i did bc i never would have ordered it online bc it\\'s petite.  i bought a petite and am 5\\'8\".  i love the length on me- hits just a little below the knee.  would definitely be a true midi on someone who is truly petite.'"
            ],
            "application/vnd.google.colaboratory.intrinsic+json": {
              "type": "string"
            }
          },
          "metadata": {},
          "execution_count": 4
        }
      ]
    },
    {
      "cell_type": "code",
      "source": [
        "df.shape"
      ],
      "metadata": {
        "colab": {
          "base_uri": "https://localhost:8080/"
        },
        "id": "KrF7pXVKtRdv",
        "outputId": "d8d0d44a-548e-473b-97c1-58611f32414a"
      },
      "execution_count": null,
      "outputs": [
        {
          "output_type": "execute_result",
          "data": {
            "text/plain": [
              "(23486, 11)"
            ]
          },
          "metadata": {},
          "execution_count": 5
        }
      ]
    },
    {
      "cell_type": "code",
      "source": [
        "df['Rating'].value_counts()\n"
      ],
      "metadata": {
        "colab": {
          "base_uri": "https://localhost:8080/"
        },
        "id": "x6pWHxFLtTbu",
        "outputId": "34c4aacf-4da3-4c0d-8514-8bb97eb1d27a"
      },
      "execution_count": null,
      "outputs": [
        {
          "output_type": "execute_result",
          "data": {
            "text/plain": [
              "5    13131\n",
              "4     5077\n",
              "3     2871\n",
              "2     1565\n",
              "1      842\n",
              "Name: Rating, dtype: int64"
            ]
          },
          "metadata": {},
          "execution_count": 6
        }
      ]
    },
    {
      "cell_type": "code",
      "source": [
        "plt=df['Rating'].value_counts().sort_index().plot(kind='bar',\n",
        "                                                title=\"Reviews by customers\",\n",
        "                                                color=\"seagreen\" )\n",
        "#Adding X and Y labels\n",
        "plt.set_xlabel(\"Rating\")\n",
        "plt.set_ylabel(\"Count\")\n",
        "plt.plot();"
      ],
      "metadata": {
        "colab": {
          "base_uri": "https://localhost:8080/",
          "height": 472
        },
        "id": "EJl336Mqtk-e",
        "outputId": "3edd796e-0ad1-40ca-b316-db9573949111"
      },
      "execution_count": null,
      "outputs": [
        {
          "output_type": "display_data",
          "data": {
            "text/plain": [
              "<Figure size 640x480 with 1 Axes>"
            ],
            "image/png": "[encoded data removed]"
          },
          "metadata": {}
        }
      ]
    },
    {
      "cell_type": "code",
      "source": [
        "plt=df['Rating'].value_counts().sort_index().plot(kind='pie',\n",
        "                                                title=\"Reviews by customers\")\n",
        "plt.plot();"
      ],
      "metadata": {
        "colab": {
          "base_uri": "https://localhost:8080/",
          "height": 429
        },
        "id": "PWq9MHaotv9s",
        "outputId": "3add4773-44e8-4479-e278-9a0bc42f3f41"
      },
      "execution_count": null,
      "outputs": [
        {
          "output_type": "display_data",
          "data": {
            "text/plain": [
              "<Figure size 640x480 with 1 Axes>"
            ],
            "image/png": "[encoded data removed]"
          },
          "metadata": {}
        }
      ]
    },
    {
      "cell_type": "code",
      "source": [
        "df['Clothing ID'].value_counts()"
      ],
      "metadata": {
        "colab": {
          "base_uri": "https://localhost:8080/"
        },
        "id": "kwt-vHIst9Ic",
        "outputId": "d206b53b-17d7-4a78-e74b-073d9e024f9b"
      },
      "execution_count": null,
      "outputs": [
        {
          "output_type": "execute_result",
          "data": {
            "text/plain": [
              "1078    1024\n",
              "862      806\n",
              "1094     756\n",
              "1081     582\n",
              "872      545\n",
              "        ... \n",
              "776        1\n",
              "668        1\n",
              "633        1\n",
              "734        1\n",
              "522        1\n",
              "Name: Clothing ID, Length: 1206, dtype: int64"
            ]
          },
          "metadata": {},
          "execution_count": 11
        }
      ]
    },
    {
      "cell_type": "code",
      "source": [
        "df.isnull().sum()"
      ],
      "metadata": {
        "colab": {
          "base_uri": "https://localhost:8080/"
        },
        "id": "nhzjE0JUuD2T",
        "outputId": "d89970d9-16c4-4824-e66e-ca38c59bf0fb"
      },
      "execution_count": null,
      "outputs": [
        {
          "output_type": "execute_result",
          "data": {
            "text/plain": [
              "Unnamed: 0                    0\n",
              "Clothing ID                   0\n",
              "Age                           0\n",
              "Title                      3810\n",
              "Review Text                 845\n",
              "Rating                        0\n",
              "Recommended IND               0\n",
              "Positive Feedback Count       0\n",
              "Division Name                14\n",
              "Department Name              14\n",
              "Class Name                   14\n",
              "dtype: int64"
            ]
          },
          "metadata": {},
          "execution_count": 12
        }
      ]
    },
    {
      "cell_type": "code",
      "source": [
        "import pandas as pd\n",
        "import matplotlib.pyplot as plt\n",
        "from wordcloud import WordCloud\n",
        "text = df['Review Text'][1]\n",
        "text = text.lower()\n",
        "wordcloud = WordCloud().generate(text)\n",
        "plt.imshow(wordcloud, interpolation='bilinear')\n",
        "plt.axis(\"off\")\n",
        "plt.show()\n"
      ],
      "metadata": {
        "colab": {
          "base_uri": "https://localhost:8080/",
          "height": 285
        },
        "id": "v_vHSNM0ukpy",
        "outputId": "096177c1-bf01-4160-fa1c-6c9f8dacd92d"
      },
      "execution_count": null,
      "outputs": [
        {
          "output_type": "display_data",
          "data": {
            "text/plain": [
              "<Figure size 640x480 with 1 Axes>"
            ],
            "image/png": "[encoded data removed]"
          },
          "metadata": {}
        }
      ]
    },
    {
      "cell_type": "code",
      "source": [
        "df=df.head(1000)"
      ],
      "metadata": {
        "id": "7jfkFa2dv4l6"
      },
      "execution_count": null,
      "outputs": []
    },
    {
      "cell_type": "code",
      "source": [
        "sentence= df['Review Text'][1]\n",
        "print(sentence)"
      ],
      "metadata": {
        "colab": {
          "base_uri": "https://localhost:8080/"
        },
        "id": "WV1D8lTsv7iI",
        "outputId": "e047cde0-6fc8-4328-fd41-13345ca2794e"
      },
      "execution_count": null,
      "outputs": [
        {
          "output_type": "stream",
          "name": "stdout",
          "text": [
            "Love this dress!  it's sooo pretty.  i happened to find it in a store, and i'm glad i did bc i never would have ordered it online bc it's petite.  i bought a petite and am 5'8\".  i love the length on me- hits just a little below the knee.  would definitely be a true midi on someone who is truly petite.\n"
          ]
        }
      ]
    },
    {
      "cell_type": "code",
      "source": [
        "import nltk\n"
      ],
      "metadata": {
        "id": "B3yiyZMGwHNw"
      },
      "execution_count": null,
      "outputs": []
    },
    {
      "cell_type": "code",
      "source": [
        "sentence= df['Review Text'][1]\n",
        "print(sentence)"
      ],
      "metadata": {
        "colab": {
          "base_uri": "https://localhost:8080/"
        },
        "id": "WLtt1ESA3LqO",
        "outputId": "36d8e7d0-cb5d-4aa6-8275-5ea1d62cb6a6"
      },
      "execution_count": null,
      "outputs": [
        {
          "output_type": "stream",
          "name": "stdout",
          "text": [
            "Love this dress!  it's sooo pretty.  i happened to find it in a store, and i'm glad i did bc i never would have ordered it online bc it's petite.  i bought a petite and am 5'8\".  i love the length on me- hits just a little below the knee.  would definitely be a true midi on someone who is truly petite.\n"
          ]
        }
      ]
    },
    {
      "cell_type": "code",
      "source": [
        "tokens=nltk.word_tokenize(sentence)\n",
        "\n",
        "#To view tokens\n",
        "tokens"
      ],
      "metadata": {
        "colab": {
          "base_uri": "https://localhost:8080/"
        },
        "id": "oTO5mkhg3Xnt",
        "outputId": "48c419e2-d278-4122-ea3c-1d308dddd1c9"
      },
      "execution_count": null,
      "outputs": [
        {
          "output_type": "execute_result",
          "data": {
            "text/plain": [
              "['Love',\n",
              " 'this',\n",
              " 'dress',\n",
              " '!',\n",
              " 'it',\n",
              " \"'s\",\n",
              " 'sooo',\n",
              " 'pretty',\n",
              " '.',\n",
              " 'i',\n",
              " 'happened',\n",
              " 'to',\n",
              " 'find',\n",
              " 'it',\n",
              " 'in',\n",
              " 'a',\n",
              " 'store',\n",
              " ',',\n",
              " 'and',\n",
              " 'i',\n",
              " \"'m\",\n",
              " 'glad',\n",
              " 'i',\n",
              " 'did',\n",
              " 'bc',\n",
              " 'i',\n",
              " 'never',\n",
              " 'would',\n",
              " 'have',\n",
              " 'ordered',\n",
              " 'it',\n",
              " 'online',\n",
              " 'bc',\n",
              " 'it',\n",
              " \"'s\",\n",
              " 'petite',\n",
              " '.',\n",
              " 'i',\n",
              " 'bought',\n",
              " 'a',\n",
              " 'petite',\n",
              " 'and',\n",
              " 'am',\n",
              " '5',\n",
              " \"'\",\n",
              " '8',\n",
              " \"''\",\n",
              " '.',\n",
              " 'i',\n",
              " 'love',\n",
              " 'the',\n",
              " 'length',\n",
              " 'on',\n",
              " 'me-',\n",
              " 'hits',\n",
              " 'just',\n",
              " 'a',\n",
              " 'little',\n",
              " 'below',\n",
              " 'the',\n",
              " 'knee',\n",
              " '.',\n",
              " 'would',\n",
              " 'definitely',\n",
              " 'be',\n",
              " 'a',\n",
              " 'true',\n",
              " 'midi',\n",
              " 'on',\n",
              " 'someone',\n",
              " 'who',\n",
              " 'is',\n",
              " 'truly',\n",
              " 'petite',\n",
              " '.']"
            ]
          },
          "metadata": {},
          "execution_count": 30
        }
      ]
    },
    {
      "cell_type": "code",
      "source": [
        "#Printing Frequency Distribution\n",
        "from nltk.probability import FreqDist\n",
        "freq_dist = FreqDist(tokens)\n",
        "print(freq_dist)\n",
        "freq_dist.most_common(3)\n"
      ],
      "metadata": {
        "colab": {
          "base_uri": "https://localhost:8080/"
        },
        "id": "gvCHxJvQ3aPt",
        "outputId": "4cd291db-876c-4a47-9ca3-840bfd7e4bfb"
      },
      "execution_count": null,
      "outputs": [
        {
          "output_type": "stream",
          "name": "stdout",
          "text": [
            "<FreqDist with 52 samples and 75 outcomes>\n"
          ]
        },
        {
          "output_type": "execute_result",
          "data": {
            "text/plain": [
              "[('i', 6), ('.', 5), ('it', 4)]"
            ]
          },
          "metadata": {},
          "execution_count": 31
        }
      ]
    },
    {
      "cell_type": "code",
      "source": [
        "nltk.download('stopwords')\n"
      ],
      "metadata": {
        "colab": {
          "base_uri": "https://localhost:8080/"
        },
        "id": "zoPjLYmo3n_N",
        "outputId": "00619cdf-a62c-4fd2-ebd3-72b586a9af52"
      },
      "execution_count": null,
      "outputs": [
        {
          "output_type": "stream",
          "name": "stderr",
          "text": [
            "[nltk_data] Downloading package stopwords to /root/nltk_data...\n",
            "[nltk_data]   Unzipping corpora/stopwords.zip.\n"
          ]
        },
        {
          "output_type": "execute_result",
          "data": {
            "text/plain": [
              "True"
            ]
          },
          "metadata": {},
          "execution_count": 33
        }
      ]
    },
    {
      "cell_type": "code",
      "source": [
        "from nltk.corpus import stopwords\n",
        "\n",
        "stop_words=set(stopwords.words(\"english\"))\n",
        "print(stop_words)"
      ],
      "metadata": {
        "colab": {
          "base_uri": "https://localhost:8080/"
        },
        "id": "-bTfEGl939JM",
        "outputId": "d57f9ede-45f4-40bd-b060-f301c5576d93"
      },
      "execution_count": null,
      "outputs": [
        {
          "output_type": "stream",
          "name": "stdout",
          "text": [
            "{\"hasn't\", \"mightn't\", 'y', 'is', 'when', 'shan', 'under', 'only', 'their', 've', 'her', 'shouldn', 'with', 'some', 'its', 'was', 'no', 'yourself', 'than', 'me', 'ma', 'few', 'doing', 'at', 'now', 'such', 'other', 'she', 'been', 'theirs', 'be', 'and', 'a', 'what', 'this', 'our', 'over', 'until', 'do', 'but', 'i', 'were', 'each', 's', 'haven', 'there', 'the', 'yourselves', 'why', \"won't\", 'him', 're', 'they', 'd', 'hers', \"isn't\", 'ain', 'so', 'couldn', 'hasn', 'nor', 'into', \"aren't\", 'm', \"you've\", 'myself', \"you'd\", 'mustn', \"it's\", 'both', \"hadn't\", 'we', 'for', 'before', \"couldn't\", \"weren't\", 'herself', 'or', 'off', 'll', 'will', 'where', 'further', 'being', \"don't\", 'here', 'hadn', 'them', 'whom', 'that', 'just', 'an', 'in', 'once', 'am', 'won', 'you', 'too', 'isn', 'ours', 'between', 'mightn', 'didn', 'below', 'needn', 'can', 'your', 'more', 'not', 'very', 'out', 'all', 'as', 'own', 'which', \"that'll\", 'while', \"wouldn't\", 'ourselves', 'having', \"shouldn't\", 'by', 'themselves', 'who', 'does', 'o', 'from', 'itself', 'those', \"should've\", 'wasn', 'how', \"wasn't\", 'during', \"doesn't\", 'of', \"didn't\", 'same', 'his', 'any', 'don', 'because', 'doesn', \"haven't\", 'these', 'after', 'if', \"you'll\", 'up', 'wouldn', \"needn't\", \"she's\", 'are', 'above', 'yours', 'through', 'down', 'has', 'my', 'he', 't', 'again', 'it', 'should', 'against', 'have', 'had', \"mustn't\", 'himself', \"shan't\", 'did', 'on', 'about', 'most', 'weren', 'aren', 'then', 'to', \"you're\"}\n"
          ]
        }
      ]
    },
    {
      "cell_type": "code",
      "source": [
        "nltk.download('averaged_perceptron_tagger')\n"
      ],
      "metadata": {
        "colab": {
          "base_uri": "https://localhost:8080/"
        },
        "id": "2j9WOfCT4Uw9",
        "outputId": "c39f9850-0f7b-491c-f0aa-079247a35bc8"
      },
      "execution_count": null,
      "outputs": [
        {
          "output_type": "stream",
          "name": "stderr",
          "text": [
            "[nltk_data] Downloading package averaged_perceptron_tagger to\n",
            "[nltk_data]     /root/nltk_data...\n",
            "[nltk_data]   Unzipping taggers/averaged_perceptron_tagger.zip.\n"
          ]
        },
        {
          "output_type": "execute_result",
          "data": {
            "text/plain": [
              "True"
            ]
          },
          "metadata": {},
          "execution_count": 37
        }
      ]
    },
    {
      "cell_type": "code",
      "source": [
        "parts_of_speech=nltk.pos_tag(tokens)\n",
        "parts_of_speech"
      ],
      "metadata": {
        "colab": {
          "base_uri": "https://localhost:8080/"
        },
        "id": "m2ca958P4WIR",
        "outputId": "db7e39f0-9f70-4856-e874-db08e5f627e0"
      },
      "execution_count": null,
      "outputs": [
        {
          "output_type": "execute_result",
          "data": {
            "text/plain": [
              "[('Love', 'VB'),\n",
              " ('this', 'DT'),\n",
              " ('dress', 'NN'),\n",
              " ('!', '.'),\n",
              " ('it', 'PRP'),\n",
              " (\"'s\", 'VBZ'),\n",
              " ('sooo', 'JJ'),\n",
              " ('pretty', 'RB'),\n",
              " ('.', '.'),\n",
              " ('i', 'NN'),\n",
              " ('happened', 'VBD'),\n",
              " ('to', 'TO'),\n",
              " ('find', 'VB'),\n",
              " ('it', 'PRP'),\n",
              " ('in', 'IN'),\n",
              " ('a', 'DT'),\n",
              " ('store', 'NN'),\n",
              " (',', ','),\n",
              " ('and', 'CC'),\n",
              " ('i', 'JJ'),\n",
              " (\"'m\", 'VBP'),\n",
              " ('glad', 'JJ'),\n",
              " ('i', 'NN'),\n",
              " ('did', 'VBD'),\n",
              " ('bc', 'NN'),\n",
              " ('i', 'NN'),\n",
              " ('never', 'RB'),\n",
              " ('would', 'MD'),\n",
              " ('have', 'VB'),\n",
              " ('ordered', 'VBN'),\n",
              " ('it', 'PRP'),\n",
              " ('online', 'PRP'),\n",
              " ('bc', 'VBZ'),\n",
              " ('it', 'PRP'),\n",
              " (\"'s\", 'VBZ'),\n",
              " ('petite', 'JJ'),\n",
              " ('.', '.'),\n",
              " ('i', 'VB'),\n",
              " ('bought', 'VBD'),\n",
              " ('a', 'DT'),\n",
              " ('petite', 'NN'),\n",
              " ('and', 'CC'),\n",
              " ('am', 'VBP'),\n",
              " ('5', 'CD'),\n",
              " (\"'\", 'POS'),\n",
              " ('8', 'CD'),\n",
              " (\"''\", \"''\"),\n",
              " ('.', '.'),\n",
              " ('i', 'VB'),\n",
              " ('love', 'VBP'),\n",
              " ('the', 'DT'),\n",
              " ('length', 'NN'),\n",
              " ('on', 'IN'),\n",
              " ('me-', 'JJ'),\n",
              " ('hits', 'NNS'),\n",
              " ('just', 'RB'),\n",
              " ('a', 'DT'),\n",
              " ('little', 'JJ'),\n",
              " ('below', 'IN'),\n",
              " ('the', 'DT'),\n",
              " ('knee', 'NN'),\n",
              " ('.', '.'),\n",
              " ('would', 'MD'),\n",
              " ('definitely', 'RB'),\n",
              " ('be', 'VB'),\n",
              " ('a', 'DT'),\n",
              " ('true', 'JJ'),\n",
              " ('midi', 'NN'),\n",
              " ('on', 'IN'),\n",
              " ('someone', 'NN'),\n",
              " ('who', 'WP'),\n",
              " ('is', 'VBZ'),\n",
              " ('truly', 'RB'),\n",
              " ('petite', 'JJ'),\n",
              " ('.', '.')]"
            ]
          },
          "metadata": {},
          "execution_count": 38
        }
      ]
    },
    {
      "cell_type": "code",
      "source": [
        "nltk.download('vader_lexicon')\n"
      ],
      "metadata": {
        "colab": {
          "base_uri": "https://localhost:8080/"
        },
        "id": "U0G6Kd7g4gd5",
        "outputId": "4e1e2767-f234-4bd0-9a20-8d2a00457621"
      },
      "execution_count": null,
      "outputs": [
        {
          "output_type": "stream",
          "name": "stderr",
          "text": [
            "[nltk_data] Downloading package vader_lexicon to /root/nltk_data...\n"
          ]
        },
        {
          "output_type": "execute_result",
          "data": {
            "text/plain": [
              "True"
            ]
          },
          "metadata": {},
          "execution_count": 42
        }
      ]
    },
    {
      "cell_type": "code",
      "source": [
        "from nltk.sentiment import SentimentIntensityAnalyzer\n",
        "from tqdm.notebook import tqdm\n",
        "SIA=SentimentIntensityAnalyzer()"
      ],
      "metadata": {
        "id": "xnaotUDR4x1r"
      },
      "execution_count": null,
      "outputs": []
    },
    {
      "cell_type": "code",
      "source": [
        "SIA.polarity_scores(sentence)"
      ],
      "metadata": {
        "colab": {
          "base_uri": "https://localhost:8080/"
        },
        "id": "qgYHU8A444K5",
        "outputId": "9a4c2eb7-0b22-4aa7-f63a-fff475b6eff3"
      },
      "execution_count": null,
      "outputs": [
        {
          "output_type": "execute_result",
          "data": {
            "text/plain": [
              "{'neg': 0.0, 'neu': 0.664, 'pos': 0.336, 'compound': 0.9729}"
            ]
          },
          "metadata": {},
          "execution_count": 44
        }
      ]
    },
    {
      "cell_type": "code",
      "source": [
        "pip install transformers\n"
      ],
      "metadata": {
        "colab": {
          "base_uri": "https://localhost:8080/"
        },
        "id": "feiL9oYr7jmD",
        "outputId": "fe525a81-faf9-4f0e-c785-e73fba37e4ce"
      },
      "execution_count": null,
      "outputs": [
        {
          "output_type": "stream",
          "name": "stdout",
          "text": [
            "Collecting transformers\n",
            "  Downloading transformers-4.31.0-py3-none-any.whl (7.4 MB)\n",
            "\u001b[2K     \u001b[90m━━━━━━━━━━━━━━━━━━━━━━━━━━━━━━━━━━━━━━━━\u001b[0m \u001b[32m7.4/7.4 MB\u001b[0m \u001b[31m21.6 MB/s\u001b[0m eta \u001b[36m0:00:00\u001b[0m\n",
            "\u001b[?25hRequirement already satisfied: filelock in /usr/local/lib/python3.10/dist-packages (from transformers) (3.12.2)\n",
            "Collecting huggingface-hub<1.0,>=0.14.1 (from transformers)\n",
            "  Downloading huggingface_hub-0.16.4-py3-none-any.whl (268 kB)\n",
            "\u001b[2K     \u001b[90m━━━━━━━━━━━━━━━━━━━━━━━━━━━━━━━━━━━━━━\u001b[0m \u001b[32m268.8/268.8 kB\u001b[0m \u001b[31m25.5 MB/s\u001b[0m eta \u001b[36m0:00:00\u001b[0m\n",
            "\u001b[?25hRequirement already satisfied: numpy>=1.17 in /usr/local/lib/python3.10/dist-packages (from transformers) (1.22.4)\n",
            "Requirement already satisfied: packaging>=20.0 in /usr/local/lib/python3.10/dist-packages (from transformers) (23.1)\n",
            "Requirement already satisfied: pyyaml>=5.1 in /usr/local/lib/python3.10/dist-packages (from transformers) (6.0.1)\n",
            "Requirement already satisfied: regex!=2019.12.17 in /usr/local/lib/python3.10/dist-packages (from transformers) (2022.10.31)\n",
            "Requirement already satisfied: requests in /usr/local/lib/python3.10/dist-packages (from transformers) (2.27.1)\n",
            "Collecting tokenizers!=0.11.3,<0.14,>=0.11.1 (from transformers)\n",
            "  Downloading tokenizers-0.13.3-cp310-cp310-manylinux_2_17_x86_64.manylinux2014_x86_64.whl (7.8 MB)\n",
            "\u001b[2K     \u001b[90m━━━━━━━━━━━━━━━━━━━━━━━━━━━━━━━━━━━━━━━━\u001b[0m \u001b[32m7.8/7.8 MB\u001b[0m \u001b[31m51.1 MB/s\u001b[0m eta \u001b[36m0:00:00\u001b[0m\n",
            "\u001b[?25hCollecting safetensors>=0.3.1 (from transformers)\n",
            "  Downloading safetensors-0.3.1-cp310-cp310-manylinux_2_17_x86_64.manylinux2014_x86_64.whl (1.3 MB)\n",
            "\u001b[2K     \u001b[90m━━━━━━━━━━━━━━━━━━━━━━━━━━━━━━━━━━━━━━━━\u001b[0m \u001b[32m1.3/1.3 MB\u001b[0m \u001b[31m51.2 MB/s\u001b[0m eta \u001b[36m0:00:00\u001b[0m\n",
            "\u001b[?25hRequirement already satisfied: tqdm>=4.27 in /usr/local/lib/python3.10/dist-packages (from transformers) (4.65.0)\n",
            "Requirement already satisfied: fsspec in /usr/local/lib/python3.10/dist-packages (from huggingface-hub<1.0,>=0.14.1->transformers) (2023.6.0)\n",
            "Requirement already satisfied: typing-extensions>=3.7.4.3 in /usr/local/lib/python3.10/dist-packages (from huggingface-hub<1.0,>=0.14.1->transformers) (4.7.1)\n",
            "Requirement already satisfied: urllib3<1.27,>=1.21.1 in /usr/local/lib/python3.10/dist-packages (from requests->transformers) (1.26.16)\n",
            "Requirement already satisfied: certifi>=2017.4.17 in /usr/local/lib/python3.10/dist-packages (from requests->transformers) (2023.7.22)\n",
            "Requirement already satisfied: charset-normalizer~=2.0.0 in /usr/local/lib/python3.10/dist-packages (from requests->transformers) (2.0.12)\n",
            "Requirement already satisfied: idna<4,>=2.5 in /usr/local/lib/python3.10/dist-packages (from requests->transformers) (3.4)\n",
            "Installing collected packages: tokenizers, safetensors, huggingface-hub, transformers\n",
            "Successfully installed huggingface-hub-0.16.4 safetensors-0.3.1 tokenizers-0.13.3 transformers-4.31.0\n"
          ]
        }
      ]
    },
    {
      "cell_type": "code",
      "source": [
        "from transformers import AutoTokenizer\n",
        "from transformers import AutoModelForSequenceClassification\n",
        "from scipy.special import softmax\n",
        "\n",
        "# Load the pre-trained model\n",
        "MODEL = \"cardiffnlp/twitter-roberta-base-sentiment\"\n",
        "tokenizer = AutoTokenizer.from_pretrained(MODEL)\n",
        "model = AutoModelForSequenceClassification.from_pretrained(MODEL)\n"
      ],
      "metadata": {
        "colab": {
          "base_uri": "https://localhost:8080/",
          "height": 177,
          "referenced_widgets": [
            "58736990f54448ec8c1966c2ce389f99",
            "b5ae92c9c4de4c35b6ee970bd5fe59d2",
            "c1efce1c8a7947a49e35f673813c2439",
            "4899c4935d7b42818df4db0231a7c0c3",
            "87967cde3c2f48298ca12e6191143f67",
            "9b62d1de2934449b9074c2cfdd97c6cc",
            "56402dcb6e954f6ca9889e4e1c46bd26",
            "22c2daa3abba416ba8ab3ae878ae59ae",
            "01b971db19d04363afa6671570b750b4",
            "5aa39a27aae245d48f46b1c9357235e0",
            "1f51faeffcdb4baba5c56ef7937ad3a0",
            "167e5d70f4474dd290347b4553d2e9b5",
            "3651da518d614ce7b5cfa41405816de8",
            "805f8f5ee34741079ac47861bfb56771",
            "75ae7eb29c96483f9d9f6d2dd5439e3c",
            "6b79ef2cd77745c6b61e8f0c74b2f7d7",
            "55c28036a57f4dcf9ddf516d10e18764",
            "e32eb9c2bd6746458b898ce1b2507315",
            "f62f0b65d8054c6f90b9110d4f1014be",
            "96acfcaae0d4454fa6fe47778eefaf34",
            "d7c716c4834a451681182ef8bfc2c749",
            "c4346ba9b4ec4f7fa79a8c2c5ac50059",
            "3b1467395b884276b895f79218a144df",
            "78de9eee7ddf446c8289b5b35b5db003",
            "0a3e2a6872714d48b7503762a55338f9",
            "63ad6e5ebfe647d09605158eeaf3256f",
            "bdfc5df6013e46008ba2a6e66e99b72f",
            "b533beecfc714dd1989580784b5ce1c4",
            "6a09f319f26642c88503eac698e82469",
            "3b59f438bb3d41958c097f6c4a4f2468",
            "5172757ea0024cd1a75fb6b0ea787bb4",
            "a294272eac92484cad11c00ac9fb7ee1",
            "8d8234346edb4360a6aa4a8d7c5f6da4",
            "df15e8f6fe9940ab898f58685f74dbe2",
            "6ed599bb6e8a46649714c8b9870614d0",
            "534a3fc8db1f4b5f9b202f942238337f",
            "1ee059ca84ef4a9cadffa0acbd15f25f",
            "d880b250423e4480b115aa11152ec2b6",
            "1490fe7addc54e6aa980daef7eac51a1",
            "89f6f2f916ca42acb59c94b3d825d5a1",
            "d290458e39d64257bbc8a4656bb3a4d8",
            "fc81259dfd1743cfa8726e2e6754d177",
            "8e121115501e4097b586262f95429806",
            "d59127cee9b44ada9c0a39293c707a54",
            "dbdd95dc9608453fac6eb24241908475",
            "b6a8bcb662f54535877c40fa45427d16",
            "9e5b2ed6ef5941a4ae5d39525ddd03d5",
            "6cc0bde36b3248b784d50bd6dde4d695",
            "e6985b27b2074523905232e0b6473c73",
            "80185cfcccde4f2caae82faeabcdd7df",
            "60387ca8326243cc9c485427d0d7a63d",
            "3b4fabed7f654c27a78fefe2dd452218",
            "a9e5f019b1a9459aa8dcca80ea083ed6",
            "c51a273b8c334b1cacc1440d62036a62",
            "c552479b44e04286a1b660dbaf50f197"
          ]
        },
        "id": "vjD1Dp2475Cj",
        "outputId": "648cd943-1c06-4d2b-d488-92793eb65a68"
      },
      "execution_count": null,
      "outputs": [
        {
          "output_type": "display_data",
          "data": {
            "text/plain": [
              "Downloading (…)lve/main/config.json:   0%|          | 0.00/747 [00:00<?, ?B/s]"
            ],
            "application/vnd.jupyter.widget-view+json": {
              "version_major": 2,
              "version_minor": 0,
              "model_id": "58736990f54448ec8c1966c2ce389f99"
            }
          },
          "metadata": {}
        },
        {
          "output_type": "display_data",
          "data": {
            "text/plain": [
              "Downloading (…)olve/main/vocab.json:   0%|          | 0.00/899k [00:00<?, ?B/s]"
            ],
            "application/vnd.jupyter.widget-view+json": {
              "version_major": 2,
              "version_minor": 0,
              "model_id": "167e5d70f4474dd290347b4553d2e9b5"
            }
          },
          "metadata": {}
        },
        {
          "output_type": "display_data",
          "data": {
            "text/plain": [
              "Downloading (…)olve/main/merges.txt:   0%|          | 0.00/456k [00:00<?, ?B/s]"
            ],
            "application/vnd.jupyter.widget-view+json": {
              "version_major": 2,
              "version_minor": 0,
              "model_id": "3b1467395b884276b895f79218a144df"
            }
          },
          "metadata": {}
        },
        {
          "output_type": "display_data",
          "data": {
            "text/plain": [
              "Downloading (…)cial_tokens_map.json:   0%|          | 0.00/150 [00:00<?, ?B/s]"
            ],
            "application/vnd.jupyter.widget-view+json": {
              "version_major": 2,
              "version_minor": 0,
              "model_id": "df15e8f6fe9940ab898f58685f74dbe2"
            }
          },
          "metadata": {}
        },
        {
          "output_type": "display_data",
          "data": {
            "text/plain": [
              "Downloading pytorch_model.bin:   0%|          | 0.00/499M [00:00<?, ?B/s]"
            ],
            "application/vnd.jupyter.widget-view+json": {
              "version_major": 2,
              "version_minor": 0,
              "model_id": "dbdd95dc9608453fac6eb24241908475"
            }
          },
          "metadata": {}
        }
      ]
    },
    {
      "cell_type": "code",
      "source": [
        "res = {}\n",
        "for i, row in tqdm(df.iterrows(), total=len(df)):\n",
        "    try:\n",
        "        text = row['Review Text']\n",
        "        if isinstance(text, str):\n",
        "            myid = row['Clothing ID']\n",
        "            vader_result = SIA.polarity_scores(text)\n",
        "            vader_result_rename = {}\n",
        "            for key, value in vader_result.items():\n",
        "                vader_result_rename[f\"vader_{key}\"] = value\n",
        "            roberta_result = roberta_polarity_scores(text)\n",
        "            res[myid] = {**vader_result_rename, **roberta_result}\n",
        "    except RuntimeError:\n",
        "        print(f'Broke at id {myid}')"
      ],
      "metadata": {
        "colab": {
          "base_uri": "https://localhost:8080/",
          "height": 49,
          "referenced_widgets": [
            "ec9835676a8c436db4f3f597012fad75",
            "c2341f83ccf749e08816e56e469351d4",
            "8806b719f51848e9a92db1a0315432a6",
            "74c30efc2979455893dabcc4e6ce13e5",
            "aaed48ae754e48cba403297f972cc95b",
            "319a656eed1a4abe97e99a3e3be49651",
            "54d96f00571b416a99aa98977db31b46",
            "336cf5e06b5744a992babeec505e37be",
            "d57f733b99e8483ba712069569157c77",
            "b141866bf06e4394af5842f92b7b3eda",
            "63ef93e7133d42c896edeb89d5876268"
          ]
        },
        "id": "WN44Z1sNB2wC",
        "outputId": "c4052a02-3ee9-4be5-f474-d9ff74a0f53c"
      },
      "execution_count": null,
      "outputs": [
        {
          "output_type": "display_data",
          "data": {
            "text/plain": [
              "  0%|          | 0/1000 [00:00<?, ?it/s]"
            ],
            "application/vnd.jupyter.widget-view+json": {
              "version_major": 2,
              "version_minor": 0,
              "model_id": "ec9835676a8c436db4f3f597012fad75"
            }
          },
          "metadata": {}
        }
      ]
    },
    {
      "cell_type": "code",
      "source": [
        "results = {}\n",
        "for i, row in tqdm(df.iterrows(), total=len(df)):\n",
        "    text = str(row['Review Text'])  # Convert to string to handle non-string values\n",
        "    myid = row['Clothing ID']\n",
        "    results[myid] = SIA.polarity_scores(text)\n",
        "\n",
        "Vaders = pd.DataFrame(results).T\n",
        "Vaders = Vaders.reset_index().rename(columns={'index': 'Clothing ID'})\n",
        "Vaders = Vaders.merge(df, how='left')\n",
        "Vaders\n"
      ],
      "metadata": {
        "colab": {
          "base_uri": "https://localhost:8080/",
          "height": 1000,
          "referenced_widgets": [
            "7708b7ed31294e6f97216a609b87e556",
            "0ccf51816daa4bc48e6beeffb39bc624",
            "36116539c8684df2881754b87c323c51",
            "1a15ad4eac55464ca68953566fd74901",
            "3e3739619ea44ce492d87374f614a2e0",
            "58d3ec1c72674123b90dee0ae0b9081c",
            "01800aec52f54af99dfacb397fcdb871",
            "6e1692a62fdb4b92801a9c3609937eaf",
            "83f937cb419b4fb899c518fdb0b0ae02",
            "859ed915a21c4013a950856763e44208",
            "8e2baac35d1b4af592bb91590b666b99"
          ]
        },
        "id": "QSImzMZlEq7r",
        "outputId": "077950e0-add5-40a4-ffd8-f7992c180bf8"
      },
      "execution_count": null,
      "outputs": [
        {
          "output_type": "display_data",
          "data": {
            "text/plain": [
              "  0%|          | 0/1000 [00:00<?, ?it/s]"
            ],
            "application/vnd.jupyter.widget-view+json": {
              "version_major": 2,
              "version_minor": 0,
              "model_id": "7708b7ed31294e6f97216a609b87e556"
            }
          },
          "metadata": {}
        },
        {
          "output_type": "execute_result",
          "data": {
            "text/plain": [
              "     Clothing ID    neg    neu    pos  compound  Unnamed: 0  Age  \\\n",
              "0            767  0.029  0.833  0.138    0.8036           0   33   \n",
              "1            767  0.029  0.833  0.138    0.8036          13   44   \n",
              "2           1080  0.000  0.679  0.321    0.9673           1   34   \n",
              "3           1080  0.000  0.679  0.321    0.9673           5   49   \n",
              "4           1080  0.000  0.679  0.321    0.9673          21   55   \n",
              "..           ...    ...    ...    ...       ...         ...  ...   \n",
              "995          158  0.000  0.782  0.218    0.7783         951   25   \n",
              "996         1154  0.000  0.729  0.271    0.8858         959   39   \n",
              "997         1022  0.081  0.753  0.166    0.7645         960   39   \n",
              "998         1145  0.068  0.672  0.261    0.9551         986   66   \n",
              "999          854  0.000  0.493  0.507    0.8020         998   29   \n",
              "\n",
              "                                  Title  \\\n",
              "0                                   NaN   \n",
              "1                              Runs big   \n",
              "2                                   NaN   \n",
              "3               Not for the very petite   \n",
              "4                             I'm torn!   \n",
              "..                                  ...   \n",
              "995                Love these for fall!   \n",
              "996  Pretty color, nice fit, fun t-back   \n",
              "997                         Loose waist   \n",
              "998                             In love   \n",
              "999                            So soft!   \n",
              "\n",
              "                                           Review Text  Rating  \\\n",
              "0    Absolutely wonderful - silky and sexy and comf...       4   \n",
              "1    Bought the black xs to go under the larkspur m...       5   \n",
              "2    Love this dress!  it's sooo pretty.  i happene...       5   \n",
              "3    I love tracy reese dresses, but this one is no...       2   \n",
              "4    I'm upset because for the price of the dress, ...       4   \n",
              "..                                                 ...     ...   \n",
              "995  These are both adorable and practical?they're ...       5   \n",
              "996  I guess this is a true to size, i am usually a...       5   \n",
              "997  I tried these on as a return at my store and s...       4   \n",
              "998  So different than anything in my closet. it's ...       5   \n",
              "999  Super soft and comfortable. runs a little larg...       5   \n",
              "\n",
              "     Recommended IND  Positive Feedback Count   Division Name Department Name  \\\n",
              "0                  1                        0       Initmates        Intimate   \n",
              "1                  1                        0       Initmates        Intimate   \n",
              "2                  1                        4         General         Dresses   \n",
              "3                  0                        4         General         Dresses   \n",
              "4                  1                       14         General         Dresses   \n",
              "..               ...                      ...             ...             ...   \n",
              "995                1                        1       Initmates        Intimate   \n",
              "996                1                        0       Initmates        Intimate   \n",
              "997                1                        1         General         Bottoms   \n",
              "998                1                        3         General           Trend   \n",
              "999                1                        0  General Petite            Tops   \n",
              "\n",
              "    Class Name  \n",
              "0    Intimates  \n",
              "1    Intimates  \n",
              "2      Dresses  \n",
              "3      Dresses  \n",
              "4      Dresses  \n",
              "..         ...  \n",
              "995    Legwear  \n",
              "996  Intimates  \n",
              "997      Jeans  \n",
              "998      Trend  \n",
              "999      Knits  \n",
              "\n",
              "[1000 rows x 15 columns]"
            ],
            "text/html": [
              "\n",
              "\n",
              "  <div id=\"df-b1bb4240-4041-49a5-9ddf-1620b3c171a5\">\n",
              "    <div class=\"colab-df-container\">\n",
              "      <div>\n",
              "<style scoped>\n",
              "    .dataframe tbody tr th:only-of-type {\n",
              "        vertical-align: middle;\n",
              "    }\n",
              "\n",
              "    .dataframe tbody tr th {\n",
              "        vertical-align: top;\n",
              "    }\n",
              "\n",
              "    .dataframe thead th {\n",
              "        text-align: right;\n",
              "    }\n",
              "</style>\n",
              "<table border=\"1\" class=\"dataframe\">\n",
              "  <thead>\n",
              "    <tr style=\"text-align: right;\">\n",
              "      <th></th>\n",
              "      <th>Clothing ID</th>\n",
              "      <th>neg</th>\n",
              "      <th>neu</th>\n",
              "      <th>pos</th>\n",
              "      <th>compound</th>\n",
              "      <th>Unnamed: 0</th>\n",
              "      <th>Age</th>\n",
              "      <th>Title</th>\n",
              "      <th>Review Text</th>\n",
              "      <th>Rating</th>\n",
              "      <th>Recommended IND</th>\n",
              "      <th>Positive Feedback Count</th>\n",
              "      <th>Division Name</th>\n",
              "      <th>Department Name</th>\n",
              "      <th>Class Name</th>\n",
              "    </tr>\n",
              "  </thead>\n",
              "  <tbody>\n",
              "    <tr>\n",
              "      <th>0</th>\n",
              "      <td>767</td>\n",
              "      <td>0.029</td>\n",
              "      <td>0.833</td>\n",
              "      <td>0.138</td>\n",
              "      <td>0.8036</td>\n",
              "      <td>0</td>\n",
              "      <td>33</td>\n",
              "      <td>NaN</td>\n",
              "      <td>Absolutely wonderful - silky and sexy and comf...</td>\n",
              "      <td>4</td>\n",
              "      <td>1</td>\n",
              "      <td>0</td>\n",
              "      <td>Initmates</td>\n",
              "      <td>Intimate</td>\n",
              "      <td>Intimates</td>\n",
              "    </tr>\n",
              "    <tr>\n",
              "      <th>1</th>\n",
              "      <td>767</td>\n",
              "      <td>0.029</td>\n",
              "      <td>0.833</td>\n",
              "      <td>0.138</td>\n",
              "      <td>0.8036</td>\n",
              "      <td>13</td>\n",
              "      <td>44</td>\n",
              "      <td>Runs big</td>\n",
              "      <td>Bought the black xs to go under the larkspur m...</td>\n",
              "      <td>5</td>\n",
              "      <td>1</td>\n",
              "      <td>0</td>\n",
              "      <td>Initmates</td>\n",
              "      <td>Intimate</td>\n",
              "      <td>Intimates</td>\n",
              "    </tr>\n",
              "    <tr>\n",
              "      <th>2</th>\n",
              "      <td>1080</td>\n",
              "      <td>0.000</td>\n",
              "      <td>0.679</td>\n",
              "      <td>0.321</td>\n",
              "      <td>0.9673</td>\n",
              "      <td>1</td>\n",
              "      <td>34</td>\n",
              "      <td>NaN</td>\n",
              "      <td>Love this dress!  it's sooo pretty.  i happene...</td>\n",
              "      <td>5</td>\n",
              "      <td>1</td>\n",
              "      <td>4</td>\n",
              "      <td>General</td>\n",
              "      <td>Dresses</td>\n",
              "      <td>Dresses</td>\n",
              "    </tr>\n",
              "    <tr>\n",
              "      <th>3</th>\n",
              "      <td>1080</td>\n",
              "      <td>0.000</td>\n",
              "      <td>0.679</td>\n",
              "      <td>0.321</td>\n",
              "      <td>0.9673</td>\n",
              "      <td>5</td>\n",
              "      <td>49</td>\n",
              "      <td>Not for the very petite</td>\n",
              "      <td>I love tracy reese dresses, but this one is no...</td>\n",
              "      <td>2</td>\n",
              "      <td>0</td>\n",
              "      <td>4</td>\n",
              "      <td>General</td>\n",
              "      <td>Dresses</td>\n",
              "      <td>Dresses</td>\n",
              "    </tr>\n",
              "    <tr>\n",
              "      <th>4</th>\n",
              "      <td>1080</td>\n",
              "      <td>0.000</td>\n",
              "      <td>0.679</td>\n",
              "      <td>0.321</td>\n",
              "      <td>0.9673</td>\n",
              "      <td>21</td>\n",
              "      <td>55</td>\n",
              "      <td>I'm torn!</td>\n",
              "      <td>I'm upset because for the price of the dress, ...</td>\n",
              "      <td>4</td>\n",
              "      <td>1</td>\n",
              "      <td>14</td>\n",
              "      <td>General</td>\n",
              "      <td>Dresses</td>\n",
              "      <td>Dresses</td>\n",
              "    </tr>\n",
              "    <tr>\n",
              "      <th>...</th>\n",
              "      <td>...</td>\n",
              "      <td>...</td>\n",
              "      <td>...</td>\n",
              "      <td>...</td>\n",
              "      <td>...</td>\n",
              "      <td>...</td>\n",
              "      <td>...</td>\n",
              "      <td>...</td>\n",
              "      <td>...</td>\n",
              "      <td>...</td>\n",
              "      <td>...</td>\n",
              "      <td>...</td>\n",
              "      <td>...</td>\n",
              "      <td>...</td>\n",
              "      <td>...</td>\n",
              "    </tr>\n",
              "    <tr>\n",
              "      <th>995</th>\n",
              "      <td>158</td>\n",
              "      <td>0.000</td>\n",
              "      <td>0.782</td>\n",
              "      <td>0.218</td>\n",
              "      <td>0.7783</td>\n",
              "      <td>951</td>\n",
              "      <td>25</td>\n",
              "      <td>Love these for fall!</td>\n",
              "      <td>These are both adorable and practical?they're ...</td>\n",
              "      <td>5</td>\n",
              "      <td>1</td>\n",
              "      <td>1</td>\n",
              "      <td>Initmates</td>\n",
              "      <td>Intimate</td>\n",
              "      <td>Legwear</td>\n",
              "    </tr>\n",
              "    <tr>\n",
              "      <th>996</th>\n",
              "      <td>1154</td>\n",
              "      <td>0.000</td>\n",
              "      <td>0.729</td>\n",
              "      <td>0.271</td>\n",
              "      <td>0.8858</td>\n",
              "      <td>959</td>\n",
              "      <td>39</td>\n",
              "      <td>Pretty color, nice fit, fun t-back</td>\n",
              "      <td>I guess this is a true to size, i am usually a...</td>\n",
              "      <td>5</td>\n",
              "      <td>1</td>\n",
              "      <td>0</td>\n",
              "      <td>Initmates</td>\n",
              "      <td>Intimate</td>\n",
              "      <td>Intimates</td>\n",
              "    </tr>\n",
              "    <tr>\n",
              "      <th>997</th>\n",
              "      <td>1022</td>\n",
              "      <td>0.081</td>\n",
              "      <td>0.753</td>\n",
              "      <td>0.166</td>\n",
              "      <td>0.7645</td>\n",
              "      <td>960</td>\n",
              "      <td>39</td>\n",
              "      <td>Loose waist</td>\n",
              "      <td>I tried these on as a return at my store and s...</td>\n",
              "      <td>4</td>\n",
              "      <td>1</td>\n",
              "      <td>1</td>\n",
              "      <td>General</td>\n",
              "      <td>Bottoms</td>\n",
              "      <td>Jeans</td>\n",
              "    </tr>\n",
              "    <tr>\n",
              "      <th>998</th>\n",
              "      <td>1145</td>\n",
              "      <td>0.068</td>\n",
              "      <td>0.672</td>\n",
              "      <td>0.261</td>\n",
              "      <td>0.9551</td>\n",
              "      <td>986</td>\n",
              "      <td>66</td>\n",
              "      <td>In love</td>\n",
              "      <td>So different than anything in my closet. it's ...</td>\n",
              "      <td>5</td>\n",
              "      <td>1</td>\n",
              "      <td>3</td>\n",
              "      <td>General</td>\n",
              "      <td>Trend</td>\n",
              "      <td>Trend</td>\n",
              "    </tr>\n",
              "    <tr>\n",
              "      <th>999</th>\n",
              "      <td>854</td>\n",
              "      <td>0.000</td>\n",
              "      <td>0.493</td>\n",
              "      <td>0.507</td>\n",
              "      <td>0.8020</td>\n",
              "      <td>998</td>\n",
              "      <td>29</td>\n",
              "      <td>So soft!</td>\n",
              "      <td>Super soft and comfortable. runs a little larg...</td>\n",
              "      <td>5</td>\n",
              "      <td>1</td>\n",
              "      <td>0</td>\n",
              "      <td>General Petite</td>\n",
              "      <td>Tops</td>\n",
              "      <td>Knits</td>\n",
              "    </tr>\n",
              "  </tbody>\n",
              "</table>\n",
              "<p>1000 rows × 15 columns</p>\n",
              "</div>\n",
              "      <button class=\"colab-df-convert\" onclick=\"convertToInteractive('df-b1bb4240-4041-49a5-9ddf-1620b3c171a5')\"\n",
              "              title=\"Convert this dataframe to an interactive table.\"\n",
              "              style=\"display:none;\">\n",
              "\n",
              "  <svg xmlns=\"http://www.w3.org/2000/svg\" height=\"24px\"viewBox=\"0 0 24 24\"\n",
              "       width=\"24px\">\n",
              "    <path d=\"M0 0h24v24H0V0z\" fill=\"none\"/>\n",
              "    <path d=\"M18.56 5.44l.94 2.06.94-2.06 2.06-.94-2.06-.94-.94-2.06-.94 2.06-2.06.94zm-11 1L8.5 8.5l.94-2.06 2.06-.94-2.06-.94L8.5 2.5l-.94 2.06-2.06.94zm10 10l.94 2.06.94-2.06 2.06-.94-2.06-.94-.94-2.06-.94 2.06-2.06.94z\"/><path d=\"M17.41 7.96l-1.37-1.37c-.4-.4-.92-.59-1.43-.59-.52 0-1.04.2-1.43.59L10.3 9.45l-7.72 7.72c-.78.78-.78 2.05 0 2.83L4 21.41c.39.39.9.59 1.41.59.51 0 1.02-.2 1.41-.59l7.78-7.78 2.81-2.81c.8-.78.8-2.07 0-2.86zM5.41 20L4 18.59l7.72-7.72 1.47 1.35L5.41 20z\"/>\n",
              "  </svg>\n",
              "      </button>\n",
              "\n",
              "\n",
              "\n",
              "    <div id=\"df-a9f81d4c-12f0-4a87-8b68-04251b74ac3a\">\n",
              "      <button class=\"colab-df-quickchart\" onclick=\"quickchart('df-a9f81d4c-12f0-4a87-8b68-04251b74ac3a')\"\n",
              "              title=\"Suggest charts.\"\n",
              "              style=\"display:none;\">\n",
              "\n",
              "<svg xmlns=\"http://www.w3.org/2000/svg\" height=\"24px\"viewBox=\"0 0 24 24\"\n",
              "     width=\"24px\">\n",
              "    <g>\n",
              "        <path d=\"M19 3H5c-1.1 0-2 .9-2 2v14c0 1.1.9 2 2 2h14c1.1 0 2-.9 2-2V5c0-1.1-.9-2-2-2zM9 17H7v-7h2v7zm4 0h-2V7h2v10zm4 0h-2v-4h2v4z\"/>\n",
              "    </g>\n",
              "</svg>\n",
              "      </button>\n",
              "    </div>\n",
              "\n",
              "<style>\n",
              "  .colab-df-quickchart {\n",
              "    background-color: #E8F0FE;\n",
              "    border: none;\n",
              "    border-radius: 50%;\n",
              "    cursor: pointer;\n",
              "    display: none;\n",
              "    fill: #1967D2;\n",
              "    height: 32px;\n",
              "    padding: 0 0 0 0;\n",
              "    width: 32px;\n",
              "  }\n",
              "\n",
              "  .colab-df-quickchart:hover {\n",
              "    background-color: #E2EBFA;\n",
              "    box-shadow: 0px 1px 2px rgba(60, 64, 67, 0.3), 0px 1px 3px 1px rgba(60, 64, 67, 0.15);\n",
              "    fill: #174EA6;\n",
              "  }\n",
              "\n",
              "  [theme=dark] .colab-df-quickchart {\n",
              "    background-color: #3B4455;\n",
              "    fill: #D2E3FC;\n",
              "  }\n",
              "\n",
              "  [theme=dark] .colab-df-quickchart:hover {\n",
              "    background-color: #434B5C;\n",
              "    box-shadow: 0px 1px 3px 1px rgba(0, 0, 0, 0.15);\n",
              "    filter: drop-shadow(0px 1px 2px rgba(0, 0, 0, 0.3));\n",
              "    fill: #FFFFFF;\n",
              "  }\n",
              "</style>\n",
              "\n",
              "    <script>\n",
              "      async function quickchart(key) {\n",
              "        const containerElement = document.querySelector('#' + key);\n",
              "        const charts = await google.colab.kernel.invokeFunction(\n",
              "            'suggestCharts', [key], {});\n",
              "      }\n",
              "    </script>\n",
              "\n",
              "      <script>\n",
              "\n",
              "function displayQuickchartButton(domScope) {\n",
              "  let quickchartButtonEl =\n",
              "    domScope.querySelector('#df-a9f81d4c-12f0-4a87-8b68-04251b74ac3a button.colab-df-quickchart');\n",
              "  quickchartButtonEl.style.display =\n",
              "    google.colab.kernel.accessAllowed ? 'block' : 'none';\n",
              "}\n",
              "\n",
              "        displayQuickchartButton(document);\n",
              "      </script>\n",
              "      <style>\n",
              "    .colab-df-container {\n",
              "      display:flex;\n",
              "      flex-wrap:wrap;\n",
              "      gap: 12px;\n",
              "    }\n",
              "\n",
              "    .colab-df-convert {\n",
              "      background-color: #E8F0FE;\n",
              "      border: none;\n",
              "      border-radius: 50%;\n",
              "      cursor: pointer;\n",
              "      display: none;\n",
              "      fill: #1967D2;\n",
              "      height: 32px;\n",
              "      padding: 0 0 0 0;\n",
              "      width: 32px;\n",
              "    }\n",
              "\n",
              "    .colab-df-convert:hover {\n",
              "      background-color: #E2EBFA;\n",
              "      box-shadow: 0px 1px 2px rgba(60, 64, 67, 0.3), 0px 1px 3px 1px rgba(60, 64, 67, 0.15);\n",
              "      fill: #174EA6;\n",
              "    }\n",
              "\n",
              "    [theme=dark] .colab-df-convert {\n",
              "      background-color: #3B4455;\n",
              "      fill: #D2E3FC;\n",
              "    }\n",
              "\n",
              "    [theme=dark] .colab-df-convert:hover {\n",
              "      background-color: #434B5C;\n",
              "      box-shadow: 0px 1px 3px 1px rgba(0, 0, 0, 0.15);\n",
              "      filter: drop-shadow(0px 1px 2px rgba(0, 0, 0, 0.3));\n",
              "      fill: #FFFFFF;\n",
              "    }\n",
              "  </style>\n",
              "\n",
              "      <script>\n",
              "        const buttonEl =\n",
              "          document.querySelector('#df-b1bb4240-4041-49a5-9ddf-1620b3c171a5 button.colab-df-convert');\n",
              "        buttonEl.style.display =\n",
              "          google.colab.kernel.accessAllowed ? 'block' : 'none';\n",
              "\n",
              "        async function convertToInteractive(key) {\n",
              "          const element = document.querySelector('#df-b1bb4240-4041-49a5-9ddf-1620b3c171a5');\n",
              "          const dataTable =\n",
              "            await google.colab.kernel.invokeFunction('convertToInteractive',\n",
              "                                                     [key], {});\n",
              "          if (!dataTable) return;\n",
              "\n",
              "          const docLinkHtml = 'Like what you see? Visit the ' +\n",
              "            '<a target=\"_blank\" href=https://colab.research.google.com/notebooks/data_table.ipynb>data table notebook</a>'\n",
              "            + ' to learn more about interactive tables.';\n",
              "          element.innerHTML = '';\n",
              "          dataTable['output_type'] = 'display_data';\n",
              "          await google.colab.output.renderOutput(dataTable, element);\n",
              "          const docLink = document.createElement('div');\n",
              "          docLink.innerHTML = docLinkHtml;\n",
              "          element.appendChild(docLink);\n",
              "        }\n",
              "      </script>\n",
              "    </div>\n",
              "  </div>\n"
            ]
          },
          "metadata": {},
          "execution_count": 67
        }
      ]
    },
    {
      "cell_type": "code",
      "source": [],
      "metadata": {
        "id": "ma8HFVx0E1Vb"
      },
      "execution_count": null,
      "outputs": []
    }
  ]
}